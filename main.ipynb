{
 "cells": [
  {
   "cell_type": "code",
   "execution_count": 107,
   "metadata": {},
   "outputs": [],
   "source": [
    "from itertools import chain"
   ]
  },
  {
   "cell_type": "code",
   "execution_count": 108,
   "metadata": {},
   "outputs": [],
   "source": [
    "# put your path here\n",
    "# file should be .tsv format\n",
    "path = \"./datas/\"\n",
    "\n",
    "with open(path, \"r\") as file:\n",
    "  rawDatas = file.readlines()\n",
    "  rawDatas = [ d.split(\"\\t\") for d in rawDatas ]\n",
    "  rawDatas = list(chain.from_iterable(rawDatas))\n",
    "  rawDatas = [ d.replace(\"\\xa0\", \" \").strip(\"\\n\") for d in rawDatas if d != \"\" and d != \"\\n\"]"
   ]
  },
  {
   "cell_type": "code",
   "execution_count": 109,
   "metadata": {},
   "outputs": [],
   "source": [
    "# split sentence to 2-d list\n",
    "\n",
    "datas = []\n",
    "\n",
    "for i in range(len(rawDatas)):\n",
    "  problem = []\n",
    "  sentence = rawDatas[i].encode(\"utf-8\")\n",
    "\n",
    "  for j in range(4):\n",
    "    match j:\n",
    "      case 0:\n",
    "        if b'\\xe0\\xb8\\x81.\\xe0\\xb8\\x9e.' in sentence:\n",
    "          tmp = sentence[144:]\n",
    "          sentence = sentence[144:].split(b'\\xe0\\xb8\\x81.') # ก\n",
    "          sentence[0] = tmp + sentence[0]\n",
    "        else:\n",
    "          sentence = sentence.split(b'\\xe0\\xb8\\x81.') # ก\n",
    "        if len(sentence) != 2:\n",
    "          sentence = sentence[0].split(b'\\xe0\\xb8\\x81 .')\n",
    "          if len(sentence) != 2:\n",
    "            sentence = sentence[0].split(b'A:')\n",
    "      case 1:\n",
    "        sentence = sentence.split(b'\\xe0\\xb8\\x82.') # ข\n",
    "        if len(sentence) != 2:\n",
    "          sentence = sentence[0].split(b'\\xe0\\xb8\\x82 .')\n",
    "          if len(sentence) != 2:\n",
    "            sentence = sentence[0].split(b'B:')\n",
    "      case 2:\n",
    "        if b'\\xe0\\xb8\\x84.\\xe0\\xb8\\xa8.' in sentence: # ค.ศ.\n",
    "          tmp = sentence[:10] # save คศ\n",
    "          sentence = sentence[10:].split(b'\\xe0\\xb8\\x84.', 1)\n",
    "          sentence[0] = tmp + sentence[0]\n",
    "        else:\n",
    "          sentence = sentence.split(b'\\xe0\\xb8\\x84.') # ค\n",
    "        if len(sentence) != 2:\n",
    "          sentence = sentence[0].split(b'\\xe0\\xb8\\x84 .')\n",
    "          if len(sentence) != 2:\n",
    "            sentence = sentence[0].split(b'C:')\n",
    "      case 3:\n",
    "        sentence = sentence.split(b'\\xe0\\xb8\\x87.') # ง\n",
    "        if len(sentence) != 2:\n",
    "          sentence = sentence[0].split(b'\\xe0\\xb8\\x87 .')\n",
    "          if len(sentence) != 2:\n",
    "            sentence = sentence[0].split(b'D:')\n",
    "        problem.append(sentence[0])\n",
    "        problem.append(sentence[1])\n",
    "        break;\n",
    "    problem.append(sentence[0])\n",
    "    sentence = sentence[1]\n",
    "  problem = [ p.decode(\"utf-8\").strip(\" \") for p in problem ]\n",
    "  datas.append(problem)"
   ]
  },
  {
   "cell_type": "code",
   "execution_count": 110,
   "metadata": {},
   "outputs": [],
   "source": [
    "# grouping questions by chapter\n",
    "# last index is no chapter belongs to\n",
    "data_lists = [[], [], [], [], [], [], [], [], [], [], [], [], [], []]\n",
    "\n",
    "for data in datas:\n",
    "  if \"บท 10\" in data[0] or \"บท10\" in data[0] or \"บทที่ 10\" in data[0] or \"บทที่10\" in data[0]:\n",
    "    data_lists[9].append(data)\n",
    "  elif \"บท 11\" in data[0] or \"บท11\" in data[0] or \"บทที่ 11\" in data[0] or \"บทที่11\" in data[0]:\n",
    "    data_lists[10].append(data)\n",
    "  elif \"บท 12\" in data[0] or \"บท12\" in data[0] or \"บทที่ 12\" in data[0] or \"บทที่12\" in data[0]:\n",
    "    data_lists[11].append(data)\n",
    "  elif \"บท 13\" in data[0] or \"บท13\" in data[0] or \"บทที่ 13\" in data[0] or \"บทที่13\" in data[0]:\n",
    "    data_lists[12].append(data)\n",
    "\n",
    "  elif \"บท 1\" in data[0] or \"บท1\" in data[0] or \"บทที่ 1\" in data[0] or \"บทที่1\" in data[0]:\n",
    "    data_lists[0].append(data)\n",
    "  elif \"บท 2\" in data[0] or \"บท2\" in data[0] or \"บทที่ 2\" in data[0] or \"บทที่2\" in data[0]:\n",
    "    data_lists[1].append(data)\n",
    "  elif \"บท 3\" in data[0] or \"บท3\" in data[0] or \"บทที่ 3\" in data[0] or \"บทที่3\" in data[0]:\n",
    "    data_lists[2].append(data)\n",
    "  elif \"บท 4\" in data[0] or \"บท4\" in data[0] or \"บทที่ 4\" in data[0] or \"บทที่4\" in data[0]:\n",
    "    data_lists[3].append(data)\n",
    "  elif \"บท 5\" in data[0] or \"บท5\" in data[0] or \"บทที่ 5\" in data[0] or \"บทที่5\" in data[0]:\n",
    "    data_lists[4].append(data)\n",
    "  elif \"บท 6\" in data[0] or \"บท6\" in data[0] or \"บทที่ 6\" in data[0] or \"บทที่6\" in data[0]:\n",
    "    data_lists[5].append(data)\n",
    "  elif \"บท 7\" in data[0] or \"บท7\" in data[0] or \"บทที่ 7\" in data[0] or \"บทที่7\" in data[0]:\n",
    "    data_lists[6].append(data)\n",
    "  elif \"บท 8\" in data[0] or \"บท8\" in data[0] or \"บทที่ 8\" in data[0] or \"บทที่8\" in data[0]:\n",
    "    data_lists[7].append(data)\n",
    "  elif \"บท 9\" in data[0] or \"บท9\" in data[0] or \"บทที่ 9\" in data[0] or \"บทที่9\" in data[0]:\n",
    "    data_lists[8].append(data)\n",
    "\n",
    "  else:\n",
    "    data_lists[13].append(data)"
   ]
  },
  {
   "cell_type": "code",
   "execution_count": 111,
   "metadata": {},
   "outputs": [],
   "source": [
    "# remove (บทที่ ...)\n",
    "for chapters in data_lists:\n",
    "  if chapters == data_lists[-1]:\n",
    "    break\n",
    "  else:\n",
    "    for data in chapters:\n",
    "      try:\n",
    "        idx = data[0].index(\"(บท\")\n",
    "      except:\n",
    "        try:\n",
    "          idx = data[0].index(\"( บท\")\n",
    "        except:\n",
    "          try:\n",
    "            idx = data[0].index(\"(คลิปบท\")\n",
    "          except:\n",
    "            try:\n",
    "              idx = data[0].index(\"(เสริมบท\")\n",
    "            except:\n",
    "              idx = data[0].index(\"(วิดีโอที่\")\n",
    "      data[0] = data[0][:idx]"
   ]
  },
  {
   "cell_type": "code",
   "execution_count": 112,
   "metadata": {},
   "outputs": [],
   "source": [
    "# save result file\n",
    "root = \"./res/ch\"\n",
    "\n",
    "for ch in range(len(data_lists)):\n",
    "  if ch == 13:\n",
    "    path = root + \"_err.txt\"\n",
    "  else:\n",
    "    path = root + str(ch + 1) + \".txt\"\n",
    "  with open(path, \"w\") as file:\n",
    "    for data in data_lists[ch]:\n",
    "      line = data[0] + \"\\n ก. \" + data[1] + \"\\n ข. \" + data[2] + \"\\n ค. \" + data[3] + \"\\n ง. \" + data[4] + \"\\n\\n\" \n",
    "      file.write(line.strip(\"\\n\") + \"\\n\")\n",
    "    file.close()"
   ]
  }
 ],
 "metadata": {
  "kernelspec": {
   "display_name": "Python 3",
   "language": "python",
   "name": "python3"
  },
  "language_info": {
   "codemirror_mode": {
    "name": "ipython",
    "version": 3
   },
   "file_extension": ".py",
   "mimetype": "text/x-python",
   "name": "python",
   "nbconvert_exporter": "python",
   "pygments_lexer": "ipython3",
   "version": "3.10.6 (main, Aug 30 2022, 05:12:36) [Clang 13.1.6 (clang-1316.0.21.2.5)]"
  },
  "orig_nbformat": 4,
  "vscode": {
   "interpreter": {
    "hash": "aee8b7b246df8f9039afb4144a1f6fd8d2ca17a180786b69acc140d282b71a49"
   }
  }
 },
 "nbformat": 4,
 "nbformat_minor": 2
}
